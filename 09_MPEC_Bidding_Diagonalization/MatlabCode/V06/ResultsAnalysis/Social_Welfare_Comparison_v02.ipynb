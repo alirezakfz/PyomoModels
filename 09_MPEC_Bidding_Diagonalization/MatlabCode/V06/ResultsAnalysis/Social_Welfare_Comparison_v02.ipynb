{
 "cells": [
  {
   "cell_type": "markdown",
   "id": "7a96f0cb",
   "metadata": {},
   "source": [
    "# This Jupyter notebook compares results from MPEC and Optimal Solution.\n",
    "\n",
    "### Here we campare Social Welfare as system objective functions "
   ]
  },
  {
   "cell_type": "code",
   "execution_count": 7,
   "id": "36f65832",
   "metadata": {},
   "outputs": [],
   "source": [
    "import numpy as np\n",
    "import pandas as pd\n",
    "import matplotlib.pyplot as plt\n",
    "import seaborn as sns\n",
    "import copy\n",
    "import os"
   ]
  },
  {
   "cell_type": "markdown",
   "id": "5883a4eb",
   "metadata": {},
   "source": [
    "### MPEC Objective Functions\n"
   ]
  },
  {
   "cell_type": "code",
   "execution_count": 8,
   "id": "0f6906b6",
   "metadata": {},
   "outputs": [
    {
     "name": "stdout",
     "output_type": "stream",
     "text": [
      "Loading results from:\n",
      "\t D:\\GitHub\\PyomoModels\\09_MPEC_Bidding_Diagonalization\\MatlabCode\\V06\\ResultsAnalysis\\Model_CSV\n"
     ]
    }
   ],
   "source": [
    "# Model_obj_vlues_1_20221021-185407.csv\n",
    "print(\"Loading results from:\")\n",
    "files_path = os.path.realpath(os.path.join(os.path.abspath(''), \"Model_CSV\"))\n",
    "print(\"\\t\",files_path)\n",
    "files_name = 'Model_obj_vlues_'\n",
    "append_name =\"_20221021-185407\"\n",
    "ncda = 9\n",
    "\n",
    "data = []\n",
    "for j in range(1,ncda+1):\n",
    "    path = os.path.join(files_path,files_name+str(j)+append_name+'.csv')\n",
    "    #print(\"Reading file {} : {}\".format(j,path))\n",
    "    data.append(pd.read_csv(path, header=None))"
   ]
  },
  {
   "cell_type": "code",
   "execution_count": 20,
   "id": "cde6b1cc",
   "metadata": {},
   "outputs": [],
   "source": [
    "# Add value for Iteration 2 of each MPEC as the value for each MPEC\n",
    "MPEC_OBJ = []\n",
    "for df in data:\n",
    "    MPEC_OBJ.append(df[df.index==1].values.flatten().tolist())\n",
    "\n",
    "df_mpec = pd.DataFrame(MPEC_OBJ, columns = [x for x in range(24)])\n",
    "\n",
    "time_dict = dict(list(enumerate([x for x in range(16,40)])))\n",
    "df_mpec.rename(columns=time_dict, inplace=True)\n",
    "\n",
    "df_mpec['DA']=['DA'+str(x) for x in range(1,ncda+1) ]\n",
    "df_mpec['Model'] ='MPEC'"
   ]
  },
  {
   "cell_type": "code",
   "execution_count": 21,
   "id": "87cdf19e",
   "metadata": {},
   "outputs": [],
   "source": [
    "def change_time(df):\n",
    "    for x in range(16,40):\n",
    "        if x >=24:\n",
    "            index = df[df['Time'] == x].index\n",
    "            df.loc[index,'Time'] = df.Time[index]%24\n",
    "    return df"
   ]
  },
  {
   "cell_type": "code",
   "execution_count": 28,
   "id": "5058bf60",
   "metadata": {},
   "outputs": [
    {
     "data": {
      "text/html": [
       "<div>\n",
       "<style scoped>\n",
       "    .dataframe tbody tr th:only-of-type {\n",
       "        vertical-align: middle;\n",
       "    }\n",
       "\n",
       "    .dataframe tbody tr th {\n",
       "        vertical-align: top;\n",
       "    }\n",
       "\n",
       "    .dataframe thead th {\n",
       "        text-align: right;\n",
       "    }\n",
       "</style>\n",
       "<table border=\"1\" class=\"dataframe\">\n",
       "  <thead>\n",
       "    <tr style=\"text-align: right;\">\n",
       "      <th></th>\n",
       "      <th>16</th>\n",
       "      <th>17</th>\n",
       "      <th>18</th>\n",
       "      <th>19</th>\n",
       "      <th>20</th>\n",
       "      <th>21</th>\n",
       "      <th>22</th>\n",
       "      <th>23</th>\n",
       "      <th>24</th>\n",
       "      <th>25</th>\n",
       "      <th>...</th>\n",
       "      <th>32</th>\n",
       "      <th>33</th>\n",
       "      <th>34</th>\n",
       "      <th>35</th>\n",
       "      <th>36</th>\n",
       "      <th>37</th>\n",
       "      <th>38</th>\n",
       "      <th>39</th>\n",
       "      <th>DA</th>\n",
       "      <th>Model</th>\n",
       "    </tr>\n",
       "  </thead>\n",
       "  <tbody>\n",
       "    <tr>\n",
       "      <th>0</th>\n",
       "      <td>3.119215</td>\n",
       "      <td>17.808072</td>\n",
       "      <td>15.017645</td>\n",
       "      <td>65.392240</td>\n",
       "      <td>-2.773637e+01</td>\n",
       "      <td>15.330850</td>\n",
       "      <td>-39.073120</td>\n",
       "      <td>37.459690</td>\n",
       "      <td>66.418510</td>\n",
       "      <td>51.81403</td>\n",
       "      <td>...</td>\n",
       "      <td>26.142724</td>\n",
       "      <td>2.767669</td>\n",
       "      <td>0.152459</td>\n",
       "      <td>0.088302</td>\n",
       "      <td>0.819279</td>\n",
       "      <td>0.383258</td>\n",
       "      <td>0.018138</td>\n",
       "      <td>-1.387779e-17</td>\n",
       "      <td>DA1</td>\n",
       "      <td>MPEC</td>\n",
       "    </tr>\n",
       "    <tr>\n",
       "      <th>1</th>\n",
       "      <td>2.482111</td>\n",
       "      <td>15.072014</td>\n",
       "      <td>11.614715</td>\n",
       "      <td>60.537010</td>\n",
       "      <td>6.153445e+00</td>\n",
       "      <td>0.525850</td>\n",
       "      <td>-15.555520</td>\n",
       "      <td>34.717240</td>\n",
       "      <td>32.231165</td>\n",
       "      <td>102.63157</td>\n",
       "      <td>...</td>\n",
       "      <td>16.404848</td>\n",
       "      <td>5.823796</td>\n",
       "      <td>0.036652</td>\n",
       "      <td>0.205791</td>\n",
       "      <td>0.230459</td>\n",
       "      <td>0.026416</td>\n",
       "      <td>0.031266</td>\n",
       "      <td>1.387779e-17</td>\n",
       "      <td>DA2</td>\n",
       "      <td>MPEC</td>\n",
       "    </tr>\n",
       "    <tr>\n",
       "      <th>2</th>\n",
       "      <td>0.128154</td>\n",
       "      <td>6.264209</td>\n",
       "      <td>10.983290</td>\n",
       "      <td>58.012474</td>\n",
       "      <td>7.181575e+00</td>\n",
       "      <td>-54.562780</td>\n",
       "      <td>6.375730</td>\n",
       "      <td>7.732270</td>\n",
       "      <td>62.144697</td>\n",
       "      <td>49.63585</td>\n",
       "      <td>...</td>\n",
       "      <td>22.751892</td>\n",
       "      <td>5.074700</td>\n",
       "      <td>5.469183</td>\n",
       "      <td>0.006407</td>\n",
       "      <td>0.863247</td>\n",
       "      <td>0.889701</td>\n",
       "      <td>-0.021001</td>\n",
       "      <td>0.000000e+00</td>\n",
       "      <td>DA3</td>\n",
       "      <td>MPEC</td>\n",
       "    </tr>\n",
       "    <tr>\n",
       "      <th>3</th>\n",
       "      <td>2.497316</td>\n",
       "      <td>25.871073</td>\n",
       "      <td>52.294347</td>\n",
       "      <td>61.690117</td>\n",
       "      <td>-1.163455e+02</td>\n",
       "      <td>70.936696</td>\n",
       "      <td>17.453100</td>\n",
       "      <td>58.512572</td>\n",
       "      <td>-34.535720</td>\n",
       "      <td>65.42524</td>\n",
       "      <td>...</td>\n",
       "      <td>34.055744</td>\n",
       "      <td>12.245735</td>\n",
       "      <td>2.565918</td>\n",
       "      <td>1.893370</td>\n",
       "      <td>0.574204</td>\n",
       "      <td>0.360787</td>\n",
       "      <td>0.148862</td>\n",
       "      <td>2.775558e-17</td>\n",
       "      <td>DA4</td>\n",
       "      <td>MPEC</td>\n",
       "    </tr>\n",
       "    <tr>\n",
       "      <th>4</th>\n",
       "      <td>0.121126</td>\n",
       "      <td>11.450087</td>\n",
       "      <td>29.088080</td>\n",
       "      <td>16.873224</td>\n",
       "      <td>-7.105427e-15</td>\n",
       "      <td>18.635040</td>\n",
       "      <td>20.631840</td>\n",
       "      <td>102.061569</td>\n",
       "      <td>7.476284</td>\n",
       "      <td>49.85029</td>\n",
       "      <td>...</td>\n",
       "      <td>8.636361</td>\n",
       "      <td>5.795502</td>\n",
       "      <td>0.325041</td>\n",
       "      <td>-0.030588</td>\n",
       "      <td>0.981290</td>\n",
       "      <td>0.605505</td>\n",
       "      <td>0.098583</td>\n",
       "      <td>-3.941659e-09</td>\n",
       "      <td>DA5</td>\n",
       "      <td>MPEC</td>\n",
       "    </tr>\n",
       "    <tr>\n",
       "      <th>5</th>\n",
       "      <td>0.121535</td>\n",
       "      <td>12.967283</td>\n",
       "      <td>57.514925</td>\n",
       "      <td>28.296804</td>\n",
       "      <td>-5.104275e+01</td>\n",
       "      <td>17.307164</td>\n",
       "      <td>24.447910</td>\n",
       "      <td>80.645717</td>\n",
       "      <td>10.029854</td>\n",
       "      <td>42.60994</td>\n",
       "      <td>...</td>\n",
       "      <td>29.068947</td>\n",
       "      <td>7.302692</td>\n",
       "      <td>5.404266</td>\n",
       "      <td>-0.262877</td>\n",
       "      <td>0.717443</td>\n",
       "      <td>0.398746</td>\n",
       "      <td>-0.069009</td>\n",
       "      <td>0.000000e+00</td>\n",
       "      <td>DA6</td>\n",
       "      <td>MPEC</td>\n",
       "    </tr>\n",
       "    <tr>\n",
       "      <th>6</th>\n",
       "      <td>8.101703</td>\n",
       "      <td>16.680037</td>\n",
       "      <td>55.587869</td>\n",
       "      <td>24.202385</td>\n",
       "      <td>-8.127268e+01</td>\n",
       "      <td>74.259600</td>\n",
       "      <td>19.377240</td>\n",
       "      <td>110.580240</td>\n",
       "      <td>16.334673</td>\n",
       "      <td>51.09334</td>\n",
       "      <td>...</td>\n",
       "      <td>41.216285</td>\n",
       "      <td>12.139790</td>\n",
       "      <td>0.262547</td>\n",
       "      <td>0.072598</td>\n",
       "      <td>0.300614</td>\n",
       "      <td>0.017828</td>\n",
       "      <td>-0.045054</td>\n",
       "      <td>6.938894e-16</td>\n",
       "      <td>DA7</td>\n",
       "      <td>MPEC</td>\n",
       "    </tr>\n",
       "    <tr>\n",
       "      <th>7</th>\n",
       "      <td>0.283813</td>\n",
       "      <td>17.604084</td>\n",
       "      <td>9.878345</td>\n",
       "      <td>51.819665</td>\n",
       "      <td>-1.717898e+01</td>\n",
       "      <td>20.467315</td>\n",
       "      <td>35.968738</td>\n",
       "      <td>84.227867</td>\n",
       "      <td>1.795130</td>\n",
       "      <td>42.82480</td>\n",
       "      <td>...</td>\n",
       "      <td>28.813273</td>\n",
       "      <td>10.055435</td>\n",
       "      <td>5.371959</td>\n",
       "      <td>4.996961</td>\n",
       "      <td>0.979544</td>\n",
       "      <td>1.400711</td>\n",
       "      <td>0.156438</td>\n",
       "      <td>1.296957e-02</td>\n",
       "      <td>DA8</td>\n",
       "      <td>MPEC</td>\n",
       "    </tr>\n",
       "    <tr>\n",
       "      <th>8</th>\n",
       "      <td>0.141652</td>\n",
       "      <td>22.125100</td>\n",
       "      <td>36.172972</td>\n",
       "      <td>21.762365</td>\n",
       "      <td>-2.426060e+01</td>\n",
       "      <td>99.753660</td>\n",
       "      <td>51.024240</td>\n",
       "      <td>26.432050</td>\n",
       "      <td>54.541260</td>\n",
       "      <td>54.71494</td>\n",
       "      <td>...</td>\n",
       "      <td>11.443470</td>\n",
       "      <td>5.030331</td>\n",
       "      <td>2.502321</td>\n",
       "      <td>0.038002</td>\n",
       "      <td>0.965698</td>\n",
       "      <td>1.210802</td>\n",
       "      <td>0.059822</td>\n",
       "      <td>1.221245e-15</td>\n",
       "      <td>DA9</td>\n",
       "      <td>MPEC</td>\n",
       "    </tr>\n",
       "  </tbody>\n",
       "</table>\n",
       "<p>9 rows × 26 columns</p>\n",
       "</div>"
      ],
      "text/plain": [
       "         16         17         18         19            20         21  \\\n",
       "0  3.119215  17.808072  15.017645  65.392240 -2.773637e+01  15.330850   \n",
       "1  2.482111  15.072014  11.614715  60.537010  6.153445e+00   0.525850   \n",
       "2  0.128154   6.264209  10.983290  58.012474  7.181575e+00 -54.562780   \n",
       "3  2.497316  25.871073  52.294347  61.690117 -1.163455e+02  70.936696   \n",
       "4  0.121126  11.450087  29.088080  16.873224 -7.105427e-15  18.635040   \n",
       "5  0.121535  12.967283  57.514925  28.296804 -5.104275e+01  17.307164   \n",
       "6  8.101703  16.680037  55.587869  24.202385 -8.127268e+01  74.259600   \n",
       "7  0.283813  17.604084   9.878345  51.819665 -1.717898e+01  20.467315   \n",
       "8  0.141652  22.125100  36.172972  21.762365 -2.426060e+01  99.753660   \n",
       "\n",
       "          22          23         24         25  ...         32         33  \\\n",
       "0 -39.073120   37.459690  66.418510   51.81403  ...  26.142724   2.767669   \n",
       "1 -15.555520   34.717240  32.231165  102.63157  ...  16.404848   5.823796   \n",
       "2   6.375730    7.732270  62.144697   49.63585  ...  22.751892   5.074700   \n",
       "3  17.453100   58.512572 -34.535720   65.42524  ...  34.055744  12.245735   \n",
       "4  20.631840  102.061569   7.476284   49.85029  ...   8.636361   5.795502   \n",
       "5  24.447910   80.645717  10.029854   42.60994  ...  29.068947   7.302692   \n",
       "6  19.377240  110.580240  16.334673   51.09334  ...  41.216285  12.139790   \n",
       "7  35.968738   84.227867   1.795130   42.82480  ...  28.813273  10.055435   \n",
       "8  51.024240   26.432050  54.541260   54.71494  ...  11.443470   5.030331   \n",
       "\n",
       "         34        35        36        37        38            39   DA  Model  \n",
       "0  0.152459  0.088302  0.819279  0.383258  0.018138 -1.387779e-17  DA1   MPEC  \n",
       "1  0.036652  0.205791  0.230459  0.026416  0.031266  1.387779e-17  DA2   MPEC  \n",
       "2  5.469183  0.006407  0.863247  0.889701 -0.021001  0.000000e+00  DA3   MPEC  \n",
       "3  2.565918  1.893370  0.574204  0.360787  0.148862  2.775558e-17  DA4   MPEC  \n",
       "4  0.325041 -0.030588  0.981290  0.605505  0.098583 -3.941659e-09  DA5   MPEC  \n",
       "5  5.404266 -0.262877  0.717443  0.398746 -0.069009  0.000000e+00  DA6   MPEC  \n",
       "6  0.262547  0.072598  0.300614  0.017828 -0.045054  6.938894e-16  DA7   MPEC  \n",
       "7  5.371959  4.996961  0.979544  1.400711  0.156438  1.296957e-02  DA8   MPEC  \n",
       "8  2.502321  0.038002  0.965698  1.210802  0.059822  1.221245e-15  DA9   MPEC  \n",
       "\n",
       "[9 rows x 26 columns]"
      ]
     },
     "execution_count": 28,
     "metadata": {},
     "output_type": "execute_result"
    }
   ],
   "source": [
    "df_mpec"
   ]
  },
  {
   "cell_type": "markdown",
   "id": "d8497dad",
   "metadata": {},
   "source": [
    "### Loading Matlab Linear code results"
   ]
  },
  {
   "cell_type": "code",
   "execution_count": 23,
   "id": "6906c9e5",
   "metadata": {},
   "outputs": [],
   "source": [
    "files_name = 'results_lin_comp_market_10-17-2022@20.41.xlsx'\n",
    "df_lin = pd.read_excel(files_name,'Objective_Function', header=None)\n",
    "df_lin.rename(columns=time_dict, inplace=True)\n",
    "df_lin['Model'] = 'Optimal'\n",
    "df_lin['DA'] = 'Optimal' "
   ]
  },
  {
   "cell_type": "code",
   "execution_count": 24,
   "id": "62cc2195",
   "metadata": {},
   "outputs": [
    {
     "name": "stderr",
     "output_type": "stream",
     "text": [
      "C:\\Users\\Alireza\\AppData\\Local\\Temp\\ipykernel_69988\\1975287277.py:1: FutureWarning: Dropping of nuisance columns in DataFrame reductions (with 'numeric_only=None') is deprecated; in a future version this will raise TypeError.  Select only valid columns before calling the reduction.\n",
      "  df_lin.sum(axis=1)\n"
     ]
    },
    {
     "data": {
      "text/plain": [
       "0   -785395.089775\n",
       "dtype: float64"
      ]
     },
     "execution_count": 24,
     "metadata": {},
     "output_type": "execute_result"
    }
   ],
   "source": [
    "df_lin.sum(axis=1)"
   ]
  },
  {
   "cell_type": "markdown",
   "id": "b1b3441a",
   "metadata": {},
   "source": [
    "## Comparing Optimal Social Welfare with MPECs"
   ]
  },
  {
   "cell_type": "code",
   "execution_count": 25,
   "id": "08aae839",
   "metadata": {},
   "outputs": [],
   "source": [
    "df_comp = pd.concat([df_mpec, df_lin])"
   ]
  },
  {
   "cell_type": "code",
   "execution_count": 26,
   "id": "88bf2bb1",
   "metadata": {},
   "outputs": [
    {
     "data": {
      "image/png": "[encoded data removed]",
      "text/plain": [
       "<Figure size 864x432 with 1 Axes>"
      ]
     },
     "metadata": {
      "needs_background": "light"
     },
     "output_type": "display_data"
    }
   ],
   "source": [
    "fig, axes = plt.subplots(1, 1, figsize=(12, 6))\n",
    "df_temp = df_comp.melt( id_vars=['Model','DA'],var_name='Time', value_name='SocialWelfare')\n",
    "df_temp = change_time(df_temp)\n",
    "sns.lineplot(data= df_temp, x='Time', y='SocialWelfare', hue='DA')#hue='category'\n",
    "axes.set(xticks=[x for x in range(24)]);\n",
    "axes.set_title(\"Comparing Optimal Social Welfare with DAs MPECs\", fontsize=12)\n",
    "axes.set_xlabel('Time Interval',fontsize=12);\n",
    "axes.set_ylabel('SocialWelfare',fontsize=12);"
   ]
  },
  {
   "cell_type": "markdown",
   "id": "8621004b",
   "metadata": {},
   "source": [
    "This plot clearly shows big difference between opimal result and MPECs social welfare. Maybe Using EPEC can lower down such a big gap between these two results. "
   ]
  },
  {
   "cell_type": "markdown",
   "id": "cd43d675",
   "metadata": {},
   "source": [
    "## Comparing average of MPECs with Optimal"
   ]
  },
  {
   "cell_type": "code",
   "execution_count": 27,
   "id": "7a803d75",
   "metadata": {},
   "outputs": [
    {
     "data": {
      "image/png": "[encoded data removed]",
      "text/plain": [
       "<Figure size 864x432 with 1 Axes>"
      ]
     },
     "metadata": {
      "needs_background": "light"
     },
     "output_type": "display_data"
    }
   ],
   "source": [
    "fig, axes = plt.subplots(1, 1, figsize=(12, 6))\n",
    "df_temp = df_comp.melt( id_vars=['Model','DA'],var_name='Time', value_name='SocialWelfare').groupby(['Model','Time']).sum().reset_index()\n",
    "df_temp = change_time(df_temp)\n",
    "sns.lineplot(data= df_temp, x='Time', y='SocialWelfare', hue='Model')#hue='category'\n",
    "axes.set(xticks=[x for x in range(24)]);\n",
    "axes.set_title(\"Comparing Optimal Social Welfare with total sum of MPECs Social Welfare\", fontsize=14)\n",
    "axes.set_xlabel('Time Interval',fontsize=12);\n",
    "axes.set_ylabel('SocialWelfare',fontsize=12);\n",
    "fig.savefig(\"Optimal_vs_MPEC_Social_Welfare.png\", bbox_inches='tight')"
   ]
  },
  {
   "cell_type": "code",
   "execution_count": null,
   "id": "0043d6cd",
   "metadata": {},
   "outputs": [],
   "source": []
  }
 ],
 "metadata": {
  "kernelspec": {
   "display_name": "Python 3 (ipykernel)",
   "language": "python",
   "name": "python3"
  },
  "language_info": {
   "codemirror_mode": {
    "name": "ipython",
    "version": 3
   },
   "file_extension": ".py",
   "mimetype": "text/x-python",
   "name": "python",
   "nbconvert_exporter": "python",
   "pygments_lexer": "ipython3",
   "version": "3.8.8"
  }
 },
 "nbformat": 4,
 "nbformat_minor": 5
}
