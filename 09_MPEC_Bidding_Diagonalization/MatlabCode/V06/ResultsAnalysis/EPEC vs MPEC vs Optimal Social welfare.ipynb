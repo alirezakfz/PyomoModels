{
 "cells": [
  {
   "cell_type": "markdown",
   "id": "1abff532",
   "metadata": {},
   "source": [
    "## EPEC vs MPEC vs Optimal Social welfare"
   ]
  },
  {
   "cell_type": "code",
   "execution_count": 1,
   "id": "44b91a26",
   "metadata": {},
   "outputs": [],
   "source": [
    "import numpy as np\n",
    "import pandas as pd\n",
    "import matplotlib.pyplot as plt\n",
    "import seaborn as sns\n",
    "import copy\n",
    "import os"
   ]
  },
  {
   "cell_type": "code",
   "execution_count": 3,
   "id": "c88e84dd",
   "metadata": {},
   "outputs": [],
   "source": [
    "path = os.path.realpath(os.path.join(os.path.abspath(''), \"Model_CSV\", \"objective_20221021-185407.csv\"))\n",
    "Epec_df = pd.read_csv(path)\n",
    "Epec_df = Epec_df.drop(index = 0)"
   ]
  },
  {
   "cell_type": "code",
   "execution_count": 16,
   "id": "e8283a8f",
   "metadata": {},
   "outputs": [],
   "source": [
    "# Optimla Result\n",
    "path = \"results_lin_comp_market_10-17-2022@20.41.xlsx\"\n",
    "df_lin = pd.read_excel(path,'Objective_Function', header=None)"
   ]
  },
  {
   "cell_type": "code",
   "execution_count": null,
   "id": "811c2cbe",
   "metadata": {},
   "outputs": [],
   "source": []
  }
 ],
 "metadata": {
  "kernelspec": {
   "display_name": "Python 3 (ipykernel)",
   "language": "python",
   "name": "python3"
  },
  "language_info": {
   "codemirror_mode": {
    "name": "ipython",
    "version": 3
   },
   "file_extension": ".py",
   "mimetype": "text/x-python",
   "name": "python",
   "nbconvert_exporter": "python",
   "pygments_lexer": "ipython3",
   "version": "3.8.12"
  }
 },
 "nbformat": 4,
 "nbformat_minor": 5
}
