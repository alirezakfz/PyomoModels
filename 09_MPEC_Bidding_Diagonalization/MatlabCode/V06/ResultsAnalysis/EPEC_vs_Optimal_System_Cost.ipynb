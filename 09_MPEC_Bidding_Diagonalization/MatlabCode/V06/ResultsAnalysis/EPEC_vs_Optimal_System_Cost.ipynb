{
 "cells": [
  {
   "cell_type": "code",
   "execution_count": 51,
   "id": "d95104d6",
   "metadata": {},
   "outputs": [],
   "source": [
    "import numpy as np\n",
    "import pandas as pd\n",
    "import matplotlib.pyplot as plt\n",
    "import seaborn as sns\n",
    "import copy\n",
    "import os"
   ]
  },
  {
   "cell_type": "markdown",
   "id": "8b3208a1",
   "metadata": {},
   "source": [
    "# This notebook is to check difference between EPEC and Optimal System Cost"
   ]
  },
  {
   "cell_type": "code",
   "execution_count": 52,
   "id": "a830320a",
   "metadata": {},
   "outputs": [
    {
     "name": "stdout",
     "output_type": "stream",
     "text": [
      "Loading results from:\n",
      "\t D:\\GitHub\\PyomoModels\\09_MPEC_Bidding_Diagonalization\\MatlabCode\\V06\\ResultsAnalysis\\Model_CSV\n"
     ]
    }
   ],
   "source": [
    "print(\"Loading results from:\")\n",
    "files_path = os.path.realpath(os.path.join(os.path.abspath(''), \"Model_CSV\"))\n",
    "print(\"\\t\",files_path)\n",
    "files_name = 'Model_data_DA_'\n",
    "append_name =\"_20221021-185407\"\n",
    "ncda = 9\n",
    "#Model_data_DA_1_20221021-185407\n",
    "data = []\n",
    "for j in range(1,ncda+1):\n",
    "    path = os.path.join(files_path,files_name+str(j)+append_name+'.csv')\n",
    "    #print(\"Reading file {} : {}\".format(j,path))\n",
    "    data.append(pd.read_csv(path))"
   ]
  },
  {
   "cell_type": "markdown",
   "id": "c92c3f17",
   "metadata": {},
   "source": [
    "## Matlab optimal results"
   ]
  },
  {
   "cell_type": "code",
   "execution_count": 53,
   "id": "0a8607d3",
   "metadata": {},
   "outputs": [],
   "source": [
    "files_name = 'results_lin_comp_market_10-17-2022@20.41.xlsx'\n",
    "lin_Competitive_Profit = pd.read_excel(files_name,'Competitive Profit', header=None)"
   ]
  },
  {
   "cell_type": "markdown",
   "id": "550756c2",
   "metadata": {},
   "source": [
    "## MPEC PROFIT / SYSTEM-COST: sum(Sell - Buy)*LMPs"
   ]
  },
  {
   "cell_type": "code",
   "execution_count": 54,
   "id": "1b555a68",
   "metadata": {},
   "outputs": [],
   "source": [
    "da_loc = np.array([[0,0,0,0,0,0,0,0,0],\n",
    "[0,0,0,0,0,0,0,0,0],\n",
    "[1,1,1,0,0,0,0,0,0],\n",
    "[0,0,0,1,1,1,0,0,0],\n",
    "[0,0,0,0,0,0,1,1,1],\n",
    "[0,0,0,0,0,0,0,0,0]])\n",
    "\n",
    "bus_col = []\n",
    "for i in range(1,7):\n",
    "    bus_col.append('Bus'+str(i)+'_price')\n",
    "\n",
    "MVA=30\n",
    "\n",
    "bus_price = data[0][data[0].Iteration==1][bus_col].to_numpy().transpose()\n",
    "\n",
    "da_sell_list=[]\n",
    "for df in data:\n",
    "    da_sell_list.append(df[df.Iteration==1]['DAs_generation\\nE_DAs_G'].tolist())\n",
    "\n",
    "da_buy_list=[]\n",
    "for df in data:\n",
    "    da_buy_list.append(df[df.Iteration==1]['DAs_load\\nE_DAs_L'].tolist())\n",
    "\n",
    "da_sell = np.array(da_sell_list)\n",
    "da_buy  = np.array(da_buy_list)\n",
    "\n",
    "price_mat = np.matmul(da_loc.T,bus_price)\n",
    "amount_mat = da_sell*MVA-da_buy*MVA\n",
    "\n",
    "Mpec_profit = np.multiply(amount_mat, price_mat)"
   ]
  },
  {
   "cell_type": "code",
   "execution_count": 55,
   "id": "498fa0b3",
   "metadata": {},
   "outputs": [],
   "source": [
    "def compute_DAs_Systemcost(iteration, DA_no):\n",
    "    da_loc = np.array([[0,0,0,0,0,0,0,0,0],\n",
    "            [0,0,0,0,0,0,0,0,0],\n",
    "            [1,1,1,0,0,0,0,0,0],\n",
    "            [0,0,0,1,1,1,0,0,0],\n",
    "            [0,0,0,0,0,0,1,1,1],\n",
    "            [0,0,0,0,0,0,0,0,0]])\n",
    "\n",
    "    bus_col = []\n",
    "    for i in range(1,7):\n",
    "        bus_col.append('Bus'+str(i)+'_price')\n",
    "    \n",
    "    MVA=30\n",
    "\n",
    "    bus_price = data[DA_no][data[DA_no].Iteration==iteration][bus_col].to_numpy().transpose()\n",
    "    \n",
    "    da_sell_list=[]\n",
    "    for df in data:\n",
    "        da_sell_list.append(df[df.Iteration==iteration]['DAs_generation\\nE_DAs_G'].tolist())\n",
    "        \n",
    "    da_buy_list=[]\n",
    "    for df in data:\n",
    "        da_buy_list.append(df[df.Iteration==iteration]['DAs_load\\nE_DAs_L'].tolist())\n",
    "        \n",
    "    da_sell = np.array(da_sell_list)\n",
    "    da_buy  = np.array(da_buy_list)\n",
    "    \n",
    "    price_mat = np.matmul(da_loc.T,bus_price)\n",
    "    amount_mat = da_sell*MVA-da_buy*MVA\n",
    "    \n",
    "    Mpec_profit = np.multiply(amount_mat, price_mat)\n",
    "    \n",
    "    return Mpec_profit"
   ]
  },
  {
   "cell_type": "code",
   "execution_count": 56,
   "id": "d681a4a2",
   "metadata": {},
   "outputs": [],
   "source": [
    "das_cost = []\n",
    "\n",
    "for it in data[0].Iteration.unique():\n",
    "    if it!=0:\n",
    "        das_cost.append(pd.DataFrame(compute_DAs_Systemcost(it, 0)).sum().to_list())\n",
    "        \n",
    "das_cost = pd.DataFrame(das_cost)\n"
   ]
  },
  {
   "cell_type": "code",
   "execution_count": 57,
   "id": "fa741cc6",
   "metadata": {},
   "outputs": [],
   "source": [
    "time_dict = dict(list(enumerate([x for x in range(16,40)])))\n",
    "\n",
    "def change_time(df):\n",
    "    for x in range(16,40):\n",
    "        if x >=24:\n",
    "            index = df[df['Time'] == x].index\n",
    "            df.loc[index,'Time'] = df.Time[index]%24\n",
    "    return df"
   ]
  },
  {
   "cell_type": "code",
   "execution_count": 58,
   "id": "648a88f8",
   "metadata": {},
   "outputs": [],
   "source": [
    "das_cost = das_cost.rename(columns=time_dict)\n",
    "das_cost = das_cost.drop(index=0)"
   ]
  },
  {
   "cell_type": "code",
   "execution_count": 59,
   "id": "4b983a2b",
   "metadata": {},
   "outputs": [],
   "source": [
    "lin_Competitive_Profit = lin_Competitive_Profit.rename(columns=time_dict)"
   ]
  },
  {
   "cell_type": "code",
   "execution_count": 60,
   "id": "4735d9b5",
   "metadata": {},
   "outputs": [
    {
     "data": {
      "text/plain": [
       "1      92413.959814\n",
       "2     242303.144616\n",
       "3     320344.889275\n",
       "4     308395.701059\n",
       "5     336091.872254\n",
       "6     304895.976526\n",
       "7     370194.375559\n",
       "8     294688.228882\n",
       "9     401989.713105\n",
       "10    300868.173023\n",
       "11    400557.747104\n",
       "12    300694.618591\n",
       "13    407636.286807\n",
       "14    302361.955666\n",
       "15    405500.266896\n",
       "16    299265.192287\n",
       "17    403918.395301\n",
       "18    307877.021755\n",
       "19    403704.422197\n",
       "20    299718.737610\n",
       "21    403700.270993\n",
       "22    304307.392180\n",
       "23    406609.032255\n",
       "24    301537.173065\n",
       "dtype: float64"
      ]
     },
     "execution_count": 60,
     "metadata": {},
     "output_type": "execute_result"
    }
   ],
   "source": [
    "das_cost.sum(axis=1)"
   ]
  },
  {
   "cell_type": "code",
   "execution_count": 48,
   "id": "355ef683",
   "metadata": {},
   "outputs": [
    {
     "data": {
      "text/plain": [
       "6314.264394602887"
      ]
     },
     "execution_count": 48,
     "metadata": {},
     "output_type": "execute_result"
    }
   ],
   "source": [
    "lin_Competitive_Profit.sum().sum()"
   ]
  },
  {
   "cell_type": "code",
   "execution_count": 79,
   "id": "e3ad7561",
   "metadata": {},
   "outputs": [
    {
     "data": {
      "image/png": "[encoded data removed]",
      "text/plain": [
       "<Figure size 864x432 with 1 Axes>"
      ]
     },
     "metadata": {
      "needs_background": "light"
     },
     "output_type": "display_data"
    }
   ],
   "source": [
    "fig, axes = plt.subplots(1, 1, figsize=(12, 6))\n",
    "X=[ x for x in range(len(das_cost.sum(axis=1)))]\n",
    "Y=das_cost.sum(axis=1)\n",
    "line1, = axes.plot(X,Y, label=\"EPEC\")\n",
    "Y= [lin_Competitive_Profit.sum().sum() for x in range(len(das_cost.sum(axis=1)))]\n",
    "line2, =axes.plot(X,Y, label=\"Optimal\")\n",
    "\n",
    "axes.legend([line1, line2], [\"EPEC\", \"Optimal\"])\n",
    "axes.set_xticks([x+1 for x in range(len(das_cost.sum(axis=1)))]);\n",
    "axes.set_xlabel(\"Iteration Number\", fontsize=14)\n",
    "axes.set_ylabel(\"System Cost $\", fontsize=14)\n",
    "axes.set_title(\"EPEC System cost VS Optimal\", fontsize=14);"
   ]
  },
  {
   "cell_type": "code",
   "execution_count": null,
   "id": "e5ff75e0",
   "metadata": {},
   "outputs": [],
   "source": []
  },
  {
   "cell_type": "code",
   "execution_count": null,
   "id": "cbd08b15",
   "metadata": {},
   "outputs": [],
   "source": []
  }
 ],
 "metadata": {
  "kernelspec": {
   "display_name": "Python 3 (ipykernel)",
   "language": "python",
   "name": "python3"
  },
  "language_info": {
   "codemirror_mode": {
    "name": "ipython",
    "version": 3
   },
   "file_extension": ".py",
   "mimetype": "text/x-python",
   "name": "python",
   "nbconvert_exporter": "python",
   "pygments_lexer": "ipython3",
   "version": "3.8.8"
  }
 },
 "nbformat": 4,
 "nbformat_minor": 5
}
