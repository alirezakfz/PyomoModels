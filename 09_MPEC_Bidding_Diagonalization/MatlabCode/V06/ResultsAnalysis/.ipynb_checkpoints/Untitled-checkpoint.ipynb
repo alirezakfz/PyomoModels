{
 "cells": [
  {
   "cell_type": "code",
   "execution_count": 1,
   "id": "de7104d1",
   "metadata": {},
   "outputs": [],
   "source": [
    "import numpy as np\n",
    "import pandas as pd\n",
    "import matplotlib.pyplot as plt\n",
    "import seaborn as sns\n",
    "import copy\n",
    "import os"
   ]
  },
  {
   "cell_type": "markdown",
   "id": "5c0e4d12",
   "metadata": {},
   "source": [
    "## Loading MPEC results for each DA from 'Model_CVS'"
   ]
  },
  {
   "cell_type": "code",
   "execution_count": 2,
   "id": "9c9eb7aa",
   "metadata": {},
   "outputs": [
    {
     "name": "stdout",
     "output_type": "stream",
     "text": [
      "Loading results from:\n",
      "\t D:\\GitHub\\PyomoModels\\09_MPEC_Bidding_Diagonalization\\MatlabCode\\V06\\ResultsAnalysis\\Model_CSV\n",
      "Reading file 1 : D:\\GitHub\\PyomoModels\\09_MPEC_Bidding_Diagonalization\\MatlabCode\\V06\\ResultsAnalysis\\Model_CSV\\Model_data_DA_1_20221017-182603.csv\n",
      "Reading file 2 : D:\\GitHub\\PyomoModels\\09_MPEC_Bidding_Diagonalization\\MatlabCode\\V06\\ResultsAnalysis\\Model_CSV\\Model_data_DA_2_20221017-182603.csv\n",
      "Reading file 3 : D:\\GitHub\\PyomoModels\\09_MPEC_Bidding_Diagonalization\\MatlabCode\\V06\\ResultsAnalysis\\Model_CSV\\Model_data_DA_3_20221017-182603.csv\n",
      "Reading file 4 : D:\\GitHub\\PyomoModels\\09_MPEC_Bidding_Diagonalization\\MatlabCode\\V06\\ResultsAnalysis\\Model_CSV\\Model_data_DA_4_20221017-182603.csv\n",
      "Reading file 5 : D:\\GitHub\\PyomoModels\\09_MPEC_Bidding_Diagonalization\\MatlabCode\\V06\\ResultsAnalysis\\Model_CSV\\Model_data_DA_5_20221017-182603.csv\n",
      "Reading file 6 : D:\\GitHub\\PyomoModels\\09_MPEC_Bidding_Diagonalization\\MatlabCode\\V06\\ResultsAnalysis\\Model_CSV\\Model_data_DA_6_20221017-182603.csv\n",
      "Reading file 7 : D:\\GitHub\\PyomoModels\\09_MPEC_Bidding_Diagonalization\\MatlabCode\\V06\\ResultsAnalysis\\Model_CSV\\Model_data_DA_7_20221017-182603.csv\n",
      "Reading file 8 : D:\\GitHub\\PyomoModels\\09_MPEC_Bidding_Diagonalization\\MatlabCode\\V06\\ResultsAnalysis\\Model_CSV\\Model_data_DA_8_20221017-182603.csv\n",
      "Reading file 9 : D:\\GitHub\\PyomoModels\\09_MPEC_Bidding_Diagonalization\\MatlabCode\\V06\\ResultsAnalysis\\Model_CSV\\Model_data_DA_9_20221017-182603.csv\n"
     ]
    }
   ],
   "source": [
    "print(\"Loading results from:\")\n",
    "files_path = os.path.realpath(os.path.join(os.path.abspath(''), \"Model_CSV\"))\n",
    "print(\"\\t\",files_path)\n",
    "files_name = 'Model_data_DA_'\n",
    "append_name =\"_20221017-182603\"\n",
    "ncda = 9\n",
    "\n",
    "data = []\n",
    "for j in range(1,ncda+1):\n",
    "    path = os.path.join(files_path,files_name+str(j)+append_name+'.csv')\n",
    "    print(\"Reading file {} : {}\".format(j,path))\n",
    "    data.append(pd.read_csv(path))"
   ]
  },
  {
   "cell_type": "markdown",
   "id": "eda76915",
   "metadata": {},
   "source": [
    "## Loading Matlab Linear code results"
   ]
  },
  {
   "cell_type": "code",
   "execution_count": 3,
   "id": "b810bfe9",
   "metadata": {},
   "outputs": [],
   "source": [
    "files_name = 'results_lin_comp_market_10-17-2022@20.41.xlsx'\n",
    "lin_da_buy = pd.read_excel(files_name,'da_buy', header=None)\n",
    "lin_da_sell = pd.read_excel(files_name,'da_sell', header=None)\n",
    "lin_da_price = pd.read_excel(files_name,'Competitive LMPs', header=None)\n",
    "lin_da_port_balance = pd.read_excel(files_name,'Protfolio Balance', header=None)\n",
    "lin_Competitive_Profit = pd.read_excel(files_name,'Competitive Profit', header=None)\n",
    "lin_gen = pd.read_excel(files_name,'g', header=None)"
   ]
  },
  {
   "cell_type": "markdown",
   "id": "8a7736d1",
   "metadata": {},
   "source": [
    "## Finding the opjective function\n",
    "lin_comp_market.Objective = sum(sum(GenBids.*g))+sum(sum(da_price_offers.*da_sell))-sum(sum(da_price_bids.*da_buy));"
   ]
  },
  {
   "cell_type": "code",
   "execution_count": 52,
   "id": "349df9b1",
   "metadata": {},
   "outputs": [],
   "source": [
    "da_loc = np.array([[0,0,0,0,0,0,0,0,0],\n",
    "[0,0,0,0,0,0,0,0,0],\n",
    "[1,1,1,0,0,0,0,0,0],\n",
    "[0,0,0,1,1,1,0,0,0],\n",
    "[0,0,0,0,0,0,1,1,1],\n",
    "[0,0,0,0,0,0,0,0,0]])\n",
    "\n",
    "gen_loc=np.array([[1,0,0,0],\n",
    "[0,1,0,0],\n",
    "[0,0,0,0],\n",
    "[0,0,0,0],\n",
    "[0,0,0,0],\n",
    "[0,0,1,1]])\n",
    "\n",
    "MVA =30"
   ]
  },
  {
   "cell_type": "code",
   "execution_count": 53,
   "id": "6d8be05a",
   "metadata": {},
   "outputs": [],
   "source": [
    "lin_da_buy_mat = lin_da_buy.to_numpy()\n",
    "lin_da_sell_mat = lin_da_sell.to_numpy()\n",
    "lin_da_price_mat = lin_da_price.to_numpy()\n",
    "lin_gen_mat = lin_gen.to_numpy()"
   ]
  },
  {
   "cell_type": "code",
   "execution_count": 54,
   "id": "27982aff",
   "metadata": {},
   "outputs": [],
   "source": [
    "lin_gen_bus_price = np.matmul(gen_loc.T, lin_da_price_mat)\n",
    "lin_da_bus_price = np.matmul(da_loc.T, lin_da_price_mat)"
   ]
  },
  {
   "cell_type": "code",
   "execution_count": 57,
   "id": "fee3ddd9",
   "metadata": {},
   "outputs": [
    {
     "data": {
      "text/plain": [
       "array([-41250.        , -41250.        , -23022.5390005 , -12694.89526899,\n",
       "        -7767.45119809,  -6203.85162482,  -4839.79343531,  -3753.80008926,\n",
       "        -2830.21939072,  -2681.8088032 ,  -2519.69201965,  -2381.07668186,\n",
       "        -2445.10821812,  -5027.47220622, -13080.64491342, -24750.        ,\n",
       "       -41250.        , -41250.        , -41250.        , -41250.        ,\n",
       "       -41250.        , -41250.        , -41250.        , -41250.        ])"
      ]
     },
     "execution_count": 57,
     "metadata": {},
     "output_type": "execute_result"
    }
   ],
   "source": [
    "sum(np.multiply((lin_da_sell_mat - lin_da_buy_mat)*MVA, lin_da_bus_price))"
   ]
  },
  {
   "cell_type": "code",
   "execution_count": 60,
   "id": "01666037",
   "metadata": {},
   "outputs": [],
   "source": [
    "lin_obj = sum(np.multiply(lin_gen_mat*MVA, lin_gen_bus_price)) + sum(np.multiply((lin_da_sell_mat - lin_da_buy_mat)*MVA, lin_da_bus_price))"
   ]
  },
  {
   "cell_type": "code",
   "execution_count": 61,
   "id": "08967fdd",
   "metadata": {},
   "outputs": [
    {
     "data": {
      "text/plain": [
       "array([ 0.00000000e+00, -7.27595761e-12,  3.63797881e-12,  5.45696821e-12,\n",
       "       -1.81898940e-12, -2.72848411e-12,  9.09494702e-13, -1.81898940e-12,\n",
       "       -1.36424205e-12, -1.81898940e-12,  9.09494702e-13, -1.36424205e-12,\n",
       "       -9.09494702e-13, -1.81898940e-12,  0.00000000e+00,  0.00000000e+00,\n",
       "       -1.45519152e-11, -2.18278728e-11,  0.00000000e+00, -1.45519152e-11,\n",
       "        0.00000000e+00,  0.00000000e+00,  2.91038305e-11,  2.91038305e-11])"
      ]
     },
     "execution_count": 61,
     "metadata": {},
     "output_type": "execute_result"
    }
   ],
   "source": [
    "lin_obj"
   ]
  },
  {
   "cell_type": "markdown",
   "id": "b98adf0a",
   "metadata": {},
   "source": [
    "## Loading Objective function of the MPECs"
   ]
  },
  {
   "cell_type": "code",
   "execution_count": null,
   "id": "4e6abde2",
   "metadata": {},
   "outputs": [],
   "source": []
  }
 ],
 "metadata": {
  "kernelspec": {
   "display_name": "Python 3 (ipykernel)",
   "language": "python",
   "name": "python3"
  },
  "language_info": {
   "codemirror_mode": {
    "name": "ipython",
    "version": 3
   },
   "file_extension": ".py",
   "mimetype": "text/x-python",
   "name": "python",
   "nbconvert_exporter": "python",
   "pygments_lexer": "ipython3",
   "version": "3.8.8"
  }
 },
 "nbformat": 4,
 "nbformat_minor": 5
}
